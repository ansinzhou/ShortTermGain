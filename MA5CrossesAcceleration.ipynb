{
 "cells": [
  {
   "cell_type": "markdown",
   "metadata": {},
   "source": [
    "## Importing Libraries"
   ]
  },
  {
   "cell_type": "code",
   "execution_count": 1,
   "metadata": {},
   "outputs": [],
   "source": [
    "import numpy as np\n",
    "import matplotlib.pyplot as plt\n",
    "import pandas as pd\n",
    "from sklearn.model_selection import train_test_split\n",
    "from sklearn.preprocessing import StandardScaler\n",
    "from sklearn.svm import SVC\n",
    "from sklearn.metrics import confusion_matrix\n",
    "from matplotlib.colors import ListedColormap\n",
    "from sklearn.model_selection import cross_val_score\n",
    "from sklearn.model_selection import GridSearchCV\n",
    "from sklearn.metrics import r2_score, mean_squared_error\n",
    "import statsmodels.api as sm\n",
    "from sklearn.impute import SimpleImputer\n",
    "from sklearn.feature_selection import RFE\n",
    "from sklearn.ensemble import RandomForestClassifier\n",
    "\n"
   ]
  },
  {
   "cell_type": "markdown",
   "metadata": {},
   "source": [
    "## Importing Dataset"
   ]
  },
  {
   "cell_type": "code",
   "execution_count": 2,
   "metadata": {},
   "outputs": [
    {
     "data": {
      "text/html": [
       "<div>\n",
       "<style scoped>\n",
       "    .dataframe tbody tr th:only-of-type {\n",
       "        vertical-align: middle;\n",
       "    }\n",
       "\n",
       "    .dataframe tbody tr th {\n",
       "        vertical-align: top;\n",
       "    }\n",
       "\n",
       "    .dataframe thead th {\n",
       "        text-align: right;\n",
       "    }\n",
       "</style>\n",
       "<table border=\"1\" class=\"dataframe\">\n",
       "  <thead>\n",
       "    <tr style=\"text-align: right;\">\n",
       "      <th></th>\n",
       "      <th>Symbol</th>\n",
       "      <th>Date</th>\n",
       "      <th>Time</th>\n",
       "      <th>MA5CrossHappened</th>\n",
       "      <th>MA5CrossHappened Label</th>\n",
       "      <th>5DayGained</th>\n",
       "      <th>5DayGained Label</th>\n",
       "      <th>MaxTwoDayVolumeRatio</th>\n",
       "      <th>MaxTwoDayVolumeRatio Label</th>\n",
       "      <th>PositiveMACDdays</th>\n",
       "      <th>...</th>\n",
       "      <th>GainVolume100Ratio</th>\n",
       "      <th>GainVolume100Ratio Label</th>\n",
       "      <th>GoldenBarCount</th>\n",
       "      <th>GoldenBarCount Label</th>\n",
       "      <th>MA5LifeLine</th>\n",
       "      <th>MA5LifeLine Label</th>\n",
       "      <th>MA5Low</th>\n",
       "      <th>MA5Low Label</th>\n",
       "      <th>MA5High</th>\n",
       "      <th>MA5High Label</th>\n",
       "    </tr>\n",
       "  </thead>\n",
       "  <tbody>\n",
       "    <tr>\n",
       "      <th>0</th>\n",
       "      <td>GUT</td>\n",
       "      <td>5/15/2017</td>\n",
       "      <td>4:00 PM</td>\n",
       "      <td>1.0</td>\n",
       "      <td>NaN</td>\n",
       "      <td>0.0</td>\n",
       "      <td>NaN</td>\n",
       "      <td>1.49</td>\n",
       "      <td>NaN</td>\n",
       "      <td>0</td>\n",
       "      <td>...</td>\n",
       "      <td>1.07119</td>\n",
       "      <td>NaN</td>\n",
       "      <td>0</td>\n",
       "      <td>NaN</td>\n",
       "      <td>1.036753</td>\n",
       "      <td>NaN</td>\n",
       "      <td>1.018045</td>\n",
       "      <td>NaN</td>\n",
       "      <td>1.029542</td>\n",
       "      <td>NaN</td>\n",
       "    </tr>\n",
       "    <tr>\n",
       "      <th>1</th>\n",
       "      <td>GUT</td>\n",
       "      <td>5/16/2017</td>\n",
       "      <td>4:00 PM</td>\n",
       "      <td>0.0</td>\n",
       "      <td>NaN</td>\n",
       "      <td>0.0</td>\n",
       "      <td>NaN</td>\n",
       "      <td>0.00</td>\n",
       "      <td>NaN</td>\n",
       "      <td>0</td>\n",
       "      <td>...</td>\n",
       "      <td>0.00000</td>\n",
       "      <td>NaN</td>\n",
       "      <td>0</td>\n",
       "      <td>NaN</td>\n",
       "      <td>0.000000</td>\n",
       "      <td>NaN</td>\n",
       "      <td>0.000000</td>\n",
       "      <td>NaN</td>\n",
       "      <td>0.000000</td>\n",
       "      <td>NaN</td>\n",
       "    </tr>\n",
       "    <tr>\n",
       "      <th>2</th>\n",
       "      <td>GUT</td>\n",
       "      <td>5/17/2017</td>\n",
       "      <td>4:00 PM</td>\n",
       "      <td>0.0</td>\n",
       "      <td>NaN</td>\n",
       "      <td>0.0</td>\n",
       "      <td>NaN</td>\n",
       "      <td>0.00</td>\n",
       "      <td>NaN</td>\n",
       "      <td>0</td>\n",
       "      <td>...</td>\n",
       "      <td>0.00000</td>\n",
       "      <td>NaN</td>\n",
       "      <td>0</td>\n",
       "      <td>NaN</td>\n",
       "      <td>0.000000</td>\n",
       "      <td>NaN</td>\n",
       "      <td>0.000000</td>\n",
       "      <td>NaN</td>\n",
       "      <td>0.000000</td>\n",
       "      <td>NaN</td>\n",
       "    </tr>\n",
       "    <tr>\n",
       "      <th>3</th>\n",
       "      <td>GUT</td>\n",
       "      <td>5/18/2017</td>\n",
       "      <td>4:00 PM</td>\n",
       "      <td>0.0</td>\n",
       "      <td>NaN</td>\n",
       "      <td>0.0</td>\n",
       "      <td>NaN</td>\n",
       "      <td>0.00</td>\n",
       "      <td>NaN</td>\n",
       "      <td>0</td>\n",
       "      <td>...</td>\n",
       "      <td>0.00000</td>\n",
       "      <td>NaN</td>\n",
       "      <td>0</td>\n",
       "      <td>NaN</td>\n",
       "      <td>0.000000</td>\n",
       "      <td>NaN</td>\n",
       "      <td>0.000000</td>\n",
       "      <td>NaN</td>\n",
       "      <td>0.000000</td>\n",
       "      <td>NaN</td>\n",
       "    </tr>\n",
       "    <tr>\n",
       "      <th>4</th>\n",
       "      <td>GUT</td>\n",
       "      <td>5/19/2017</td>\n",
       "      <td>4:00 PM</td>\n",
       "      <td>0.0</td>\n",
       "      <td>NaN</td>\n",
       "      <td>0.0</td>\n",
       "      <td>NaN</td>\n",
       "      <td>0.00</td>\n",
       "      <td>NaN</td>\n",
       "      <td>0</td>\n",
       "      <td>...</td>\n",
       "      <td>0.00000</td>\n",
       "      <td>NaN</td>\n",
       "      <td>0</td>\n",
       "      <td>NaN</td>\n",
       "      <td>0.000000</td>\n",
       "      <td>NaN</td>\n",
       "      <td>0.000000</td>\n",
       "      <td>NaN</td>\n",
       "      <td>0.000000</td>\n",
       "      <td>NaN</td>\n",
       "    </tr>\n",
       "  </tbody>\n",
       "</table>\n",
       "<p>5 rows × 33 columns</p>\n",
       "</div>"
      ],
      "text/plain": [
       "  Symbol       Date     Time  MA5CrossHappened  MA5CrossHappened Label  \\\n",
       "0    GUT  5/15/2017  4:00 PM               1.0                     NaN   \n",
       "1    GUT  5/16/2017  4:00 PM               0.0                     NaN   \n",
       "2    GUT  5/17/2017  4:00 PM               0.0                     NaN   \n",
       "3    GUT  5/18/2017  4:00 PM               0.0                     NaN   \n",
       "4    GUT  5/19/2017  4:00 PM               0.0                     NaN   \n",
       "\n",
       "   5DayGained  5DayGained Label  MaxTwoDayVolumeRatio  \\\n",
       "0         0.0               NaN                  1.49   \n",
       "1         0.0               NaN                  0.00   \n",
       "2         0.0               NaN                  0.00   \n",
       "3         0.0               NaN                  0.00   \n",
       "4         0.0               NaN                  0.00   \n",
       "\n",
       "   MaxTwoDayVolumeRatio Label  PositiveMACDdays  ...  GainVolume100Ratio  \\\n",
       "0                         NaN                 0  ...             1.07119   \n",
       "1                         NaN                 0  ...             0.00000   \n",
       "2                         NaN                 0  ...             0.00000   \n",
       "3                         NaN                 0  ...             0.00000   \n",
       "4                         NaN                 0  ...             0.00000   \n",
       "\n",
       "   GainVolume100Ratio Label  GoldenBarCount  GoldenBarCount Label  \\\n",
       "0                       NaN               0                   NaN   \n",
       "1                       NaN               0                   NaN   \n",
       "2                       NaN               0                   NaN   \n",
       "3                       NaN               0                   NaN   \n",
       "4                       NaN               0                   NaN   \n",
       "\n",
       "   MA5LifeLine  MA5LifeLine Label    MA5Low  MA5Low Label   MA5High  \\\n",
       "0     1.036753                NaN  1.018045           NaN  1.029542   \n",
       "1     0.000000                NaN  0.000000           NaN  0.000000   \n",
       "2     0.000000                NaN  0.000000           NaN  0.000000   \n",
       "3     0.000000                NaN  0.000000           NaN  0.000000   \n",
       "4     0.000000                NaN  0.000000           NaN  0.000000   \n",
       "\n",
       "   MA5High Label  \n",
       "0            NaN  \n",
       "1            NaN  \n",
       "2            NaN  \n",
       "3            NaN  \n",
       "4            NaN  \n",
       "\n",
       "[5 rows x 33 columns]"
      ]
     },
     "execution_count": 2,
     "metadata": {},
     "output_type": "execute_result"
    }
   ],
   "source": [
    "dataset = pd.read_csv('UDACITY3.csv')\n",
    "dataset.head()"
   ]
  },
  {
   "cell_type": "code",
   "execution_count": 3,
   "metadata": {},
   "outputs": [
    {
     "name": "stdout",
     "output_type": "stream",
     "text": [
      "<class 'pandas.core.frame.DataFrame'>\n",
      "RangeIndex: 2457356 entries, 0 to 2457355\n",
      "Data columns (total 33 columns):\n",
      " #   Column                       Dtype  \n",
      "---  ------                       -----  \n",
      " 0   Symbol                       object \n",
      " 1   Date                         object \n",
      " 2   Time                         object \n",
      " 3   MA5CrossHappened             float64\n",
      " 4   MA5CrossHappened Label       float64\n",
      " 5   5DayGained                   float64\n",
      " 6   5DayGained Label             float64\n",
      " 7   MaxTwoDayVolumeRatio         float64\n",
      " 8   MaxTwoDayVolumeRatio Label   float64\n",
      " 9   PositiveMACDdays             int64  \n",
      " 10  PositiveMACDdays Label       float64\n",
      " 11  GainBarsSum                  float64\n",
      " 12  GainBarsSum Label            float64\n",
      " 13  SignificantGainVolume        int64  \n",
      " 14  SignificantGainVolume Label  float64\n",
      " 15  MACDdivergeRatio             float64\n",
      " 16  MACDdivergeRatio Label       float64\n",
      " 17  MACDdivergeRatioLow          float64\n",
      " 18  MACDdivergeRatioLow Label    float64\n",
      " 19  Cross100Ratio                float64\n",
      " 20  Cross100Ratio Label          float64\n",
      " 21  Cross5to100Ratio             float64\n",
      " 22  Cross5to100Ratio Label       float64\n",
      " 23  GainVolume100Ratio           float64\n",
      " 24  GainVolume100Ratio Label     float64\n",
      " 25  GoldenBarCount               int64  \n",
      " 26  GoldenBarCount Label         float64\n",
      " 27  MA5LifeLine                  float64\n",
      " 28  MA5LifeLine Label            float64\n",
      " 29  MA5Low                       float64\n",
      " 30  MA5Low Label                 float64\n",
      " 31  MA5High                      float64\n",
      " 32  MA5High Label                float64\n",
      "dtypes: float64(27), int64(3), object(3)\n",
      "memory usage: 618.7+ MB\n"
     ]
    }
   ],
   "source": [
    "dataset.info()"
   ]
  },
  {
   "cell_type": "code",
   "execution_count": 4,
   "metadata": {},
   "outputs": [
    {
     "data": {
      "text/html": [
       "<div>\n",
       "<style scoped>\n",
       "    .dataframe tbody tr th:only-of-type {\n",
       "        vertical-align: middle;\n",
       "    }\n",
       "\n",
       "    .dataframe tbody tr th {\n",
       "        vertical-align: top;\n",
       "    }\n",
       "\n",
       "    .dataframe thead th {\n",
       "        text-align: right;\n",
       "    }\n",
       "</style>\n",
       "<table border=\"1\" class=\"dataframe\">\n",
       "  <thead>\n",
       "    <tr style=\"text-align: right;\">\n",
       "      <th></th>\n",
       "      <th>MA5CrossHappened</th>\n",
       "      <th>MA5CrossHappened Label</th>\n",
       "      <th>5DayGained</th>\n",
       "      <th>5DayGained Label</th>\n",
       "      <th>MaxTwoDayVolumeRatio</th>\n",
       "      <th>MaxTwoDayVolumeRatio Label</th>\n",
       "      <th>PositiveMACDdays</th>\n",
       "      <th>PositiveMACDdays Label</th>\n",
       "      <th>GainBarsSum</th>\n",
       "      <th>GainBarsSum Label</th>\n",
       "      <th>...</th>\n",
       "      <th>GainVolume100Ratio</th>\n",
       "      <th>GainVolume100Ratio Label</th>\n",
       "      <th>GoldenBarCount</th>\n",
       "      <th>GoldenBarCount Label</th>\n",
       "      <th>MA5LifeLine</th>\n",
       "      <th>MA5LifeLine Label</th>\n",
       "      <th>MA5Low</th>\n",
       "      <th>MA5Low Label</th>\n",
       "      <th>MA5High</th>\n",
       "      <th>MA5High Label</th>\n",
       "    </tr>\n",
       "  </thead>\n",
       "  <tbody>\n",
       "    <tr>\n",
       "      <th>count</th>\n",
       "      <td>2.456606e+06</td>\n",
       "      <td>0.0</td>\n",
       "      <td>2.455013e+06</td>\n",
       "      <td>0.0</td>\n",
       "      <td>2457355.0</td>\n",
       "      <td>0.0</td>\n",
       "      <td>2.457356e+06</td>\n",
       "      <td>0.0</td>\n",
       "      <td>2.452641e+06</td>\n",
       "      <td>0.0</td>\n",
       "      <td>...</td>\n",
       "      <td>2456627.0</td>\n",
       "      <td>0.0</td>\n",
       "      <td>2.457356e+06</td>\n",
       "      <td>0.0</td>\n",
       "      <td>2454633.0</td>\n",
       "      <td>0.0</td>\n",
       "      <td>2.457137e+06</td>\n",
       "      <td>0.0</td>\n",
       "      <td>2.457136e+06</td>\n",
       "      <td>0.0</td>\n",
       "    </tr>\n",
       "    <tr>\n",
       "      <th>mean</th>\n",
       "      <td>2.203772e-02</td>\n",
       "      <td>NaN</td>\n",
       "      <td>1.063986e-02</td>\n",
       "      <td>NaN</td>\n",
       "      <td>inf</td>\n",
       "      <td>NaN</td>\n",
       "      <td>1.136921e-01</td>\n",
       "      <td>NaN</td>\n",
       "      <td>7.064589e-02</td>\n",
       "      <td>NaN</td>\n",
       "      <td>...</td>\n",
       "      <td>inf</td>\n",
       "      <td>NaN</td>\n",
       "      <td>7.641546e-03</td>\n",
       "      <td>NaN</td>\n",
       "      <td>inf</td>\n",
       "      <td>NaN</td>\n",
       "      <td>2.465887e-02</td>\n",
       "      <td>NaN</td>\n",
       "      <td>2.462167e-02</td>\n",
       "      <td>NaN</td>\n",
       "    </tr>\n",
       "    <tr>\n",
       "      <th>std</th>\n",
       "      <td>1.468062e-01</td>\n",
       "      <td>NaN</td>\n",
       "      <td>1.025995e-01</td>\n",
       "      <td>NaN</td>\n",
       "      <td>NaN</td>\n",
       "      <td>NaN</td>\n",
       "      <td>1.243855e+00</td>\n",
       "      <td>NaN</td>\n",
       "      <td>4.918982e-01</td>\n",
       "      <td>NaN</td>\n",
       "      <td>...</td>\n",
       "      <td>NaN</td>\n",
       "      <td>NaN</td>\n",
       "      <td>4.586384e-01</td>\n",
       "      <td>NaN</td>\n",
       "      <td>NaN</td>\n",
       "      <td>NaN</td>\n",
       "      <td>1.808026e-01</td>\n",
       "      <td>NaN</td>\n",
       "      <td>1.935430e-01</td>\n",
       "      <td>NaN</td>\n",
       "    </tr>\n",
       "    <tr>\n",
       "      <th>min</th>\n",
       "      <td>0.000000e+00</td>\n",
       "      <td>NaN</td>\n",
       "      <td>0.000000e+00</td>\n",
       "      <td>NaN</td>\n",
       "      <td>0.0</td>\n",
       "      <td>NaN</td>\n",
       "      <td>0.000000e+00</td>\n",
       "      <td>NaN</td>\n",
       "      <td>0.000000e+00</td>\n",
       "      <td>NaN</td>\n",
       "      <td>...</td>\n",
       "      <td>0.0</td>\n",
       "      <td>NaN</td>\n",
       "      <td>0.000000e+00</td>\n",
       "      <td>NaN</td>\n",
       "      <td>0.0</td>\n",
       "      <td>NaN</td>\n",
       "      <td>0.000000e+00</td>\n",
       "      <td>NaN</td>\n",
       "      <td>0.000000e+00</td>\n",
       "      <td>NaN</td>\n",
       "    </tr>\n",
       "    <tr>\n",
       "      <th>25%</th>\n",
       "      <td>0.000000e+00</td>\n",
       "      <td>NaN</td>\n",
       "      <td>0.000000e+00</td>\n",
       "      <td>NaN</td>\n",
       "      <td>0.0</td>\n",
       "      <td>NaN</td>\n",
       "      <td>0.000000e+00</td>\n",
       "      <td>NaN</td>\n",
       "      <td>0.000000e+00</td>\n",
       "      <td>NaN</td>\n",
       "      <td>...</td>\n",
       "      <td>0.0</td>\n",
       "      <td>NaN</td>\n",
       "      <td>0.000000e+00</td>\n",
       "      <td>NaN</td>\n",
       "      <td>0.0</td>\n",
       "      <td>NaN</td>\n",
       "      <td>0.000000e+00</td>\n",
       "      <td>NaN</td>\n",
       "      <td>0.000000e+00</td>\n",
       "      <td>NaN</td>\n",
       "    </tr>\n",
       "    <tr>\n",
       "      <th>50%</th>\n",
       "      <td>0.000000e+00</td>\n",
       "      <td>NaN</td>\n",
       "      <td>0.000000e+00</td>\n",
       "      <td>NaN</td>\n",
       "      <td>0.0</td>\n",
       "      <td>NaN</td>\n",
       "      <td>0.000000e+00</td>\n",
       "      <td>NaN</td>\n",
       "      <td>0.000000e+00</td>\n",
       "      <td>NaN</td>\n",
       "      <td>...</td>\n",
       "      <td>0.0</td>\n",
       "      <td>NaN</td>\n",
       "      <td>0.000000e+00</td>\n",
       "      <td>NaN</td>\n",
       "      <td>0.0</td>\n",
       "      <td>NaN</td>\n",
       "      <td>0.000000e+00</td>\n",
       "      <td>NaN</td>\n",
       "      <td>0.000000e+00</td>\n",
       "      <td>NaN</td>\n",
       "    </tr>\n",
       "    <tr>\n",
       "      <th>75%</th>\n",
       "      <td>0.000000e+00</td>\n",
       "      <td>NaN</td>\n",
       "      <td>0.000000e+00</td>\n",
       "      <td>NaN</td>\n",
       "      <td>0.0</td>\n",
       "      <td>NaN</td>\n",
       "      <td>0.000000e+00</td>\n",
       "      <td>NaN</td>\n",
       "      <td>0.000000e+00</td>\n",
       "      <td>NaN</td>\n",
       "      <td>...</td>\n",
       "      <td>0.0</td>\n",
       "      <td>NaN</td>\n",
       "      <td>0.000000e+00</td>\n",
       "      <td>NaN</td>\n",
       "      <td>0.0</td>\n",
       "      <td>NaN</td>\n",
       "      <td>0.000000e+00</td>\n",
       "      <td>NaN</td>\n",
       "      <td>0.000000e+00</td>\n",
       "      <td>NaN</td>\n",
       "    </tr>\n",
       "    <tr>\n",
       "      <th>max</th>\n",
       "      <td>1.000000e+00</td>\n",
       "      <td>NaN</td>\n",
       "      <td>1.000000e+00</td>\n",
       "      <td>NaN</td>\n",
       "      <td>inf</td>\n",
       "      <td>NaN</td>\n",
       "      <td>1.040000e+02</td>\n",
       "      <td>NaN</td>\n",
       "      <td>5.000000e+00</td>\n",
       "      <td>NaN</td>\n",
       "      <td>...</td>\n",
       "      <td>inf</td>\n",
       "      <td>NaN</td>\n",
       "      <td>1.300000e+02</td>\n",
       "      <td>NaN</td>\n",
       "      <td>inf</td>\n",
       "      <td>NaN</td>\n",
       "      <td>2.289474e+01</td>\n",
       "      <td>NaN</td>\n",
       "      <td>1.300000e+02</td>\n",
       "      <td>NaN</td>\n",
       "    </tr>\n",
       "  </tbody>\n",
       "</table>\n",
       "<p>8 rows × 30 columns</p>\n",
       "</div>"
      ],
      "text/plain": [
       "       MA5CrossHappened  MA5CrossHappened Label    5DayGained  \\\n",
       "count      2.456606e+06                     0.0  2.455013e+06   \n",
       "mean       2.203772e-02                     NaN  1.063986e-02   \n",
       "std        1.468062e-01                     NaN  1.025995e-01   \n",
       "min        0.000000e+00                     NaN  0.000000e+00   \n",
       "25%        0.000000e+00                     NaN  0.000000e+00   \n",
       "50%        0.000000e+00                     NaN  0.000000e+00   \n",
       "75%        0.000000e+00                     NaN  0.000000e+00   \n",
       "max        1.000000e+00                     NaN  1.000000e+00   \n",
       "\n",
       "       5DayGained Label  MaxTwoDayVolumeRatio  MaxTwoDayVolumeRatio Label  \\\n",
       "count               0.0             2457355.0                         0.0   \n",
       "mean                NaN                   inf                         NaN   \n",
       "std                 NaN                   NaN                         NaN   \n",
       "min                 NaN                   0.0                         NaN   \n",
       "25%                 NaN                   0.0                         NaN   \n",
       "50%                 NaN                   0.0                         NaN   \n",
       "75%                 NaN                   0.0                         NaN   \n",
       "max                 NaN                   inf                         NaN   \n",
       "\n",
       "       PositiveMACDdays  PositiveMACDdays Label   GainBarsSum  \\\n",
       "count      2.457356e+06                     0.0  2.452641e+06   \n",
       "mean       1.136921e-01                     NaN  7.064589e-02   \n",
       "std        1.243855e+00                     NaN  4.918982e-01   \n",
       "min        0.000000e+00                     NaN  0.000000e+00   \n",
       "25%        0.000000e+00                     NaN  0.000000e+00   \n",
       "50%        0.000000e+00                     NaN  0.000000e+00   \n",
       "75%        0.000000e+00                     NaN  0.000000e+00   \n",
       "max        1.040000e+02                     NaN  5.000000e+00   \n",
       "\n",
       "       GainBarsSum Label  ...  GainVolume100Ratio  GainVolume100Ratio Label  \\\n",
       "count                0.0  ...           2456627.0                       0.0   \n",
       "mean                 NaN  ...                 inf                       NaN   \n",
       "std                  NaN  ...                 NaN                       NaN   \n",
       "min                  NaN  ...                 0.0                       NaN   \n",
       "25%                  NaN  ...                 0.0                       NaN   \n",
       "50%                  NaN  ...                 0.0                       NaN   \n",
       "75%                  NaN  ...                 0.0                       NaN   \n",
       "max                  NaN  ...                 inf                       NaN   \n",
       "\n",
       "       GoldenBarCount  GoldenBarCount Label  MA5LifeLine  MA5LifeLine Label  \\\n",
       "count    2.457356e+06                   0.0    2454633.0                0.0   \n",
       "mean     7.641546e-03                   NaN          inf                NaN   \n",
       "std      4.586384e-01                   NaN          NaN                NaN   \n",
       "min      0.000000e+00                   NaN          0.0                NaN   \n",
       "25%      0.000000e+00                   NaN          0.0                NaN   \n",
       "50%      0.000000e+00                   NaN          0.0                NaN   \n",
       "75%      0.000000e+00                   NaN          0.0                NaN   \n",
       "max      1.300000e+02                   NaN          inf                NaN   \n",
       "\n",
       "             MA5Low  MA5Low Label       MA5High  MA5High Label  \n",
       "count  2.457137e+06           0.0  2.457136e+06            0.0  \n",
       "mean   2.465887e-02           NaN  2.462167e-02            NaN  \n",
       "std    1.808026e-01           NaN  1.935430e-01            NaN  \n",
       "min    0.000000e+00           NaN  0.000000e+00            NaN  \n",
       "25%    0.000000e+00           NaN  0.000000e+00            NaN  \n",
       "50%    0.000000e+00           NaN  0.000000e+00            NaN  \n",
       "75%    0.000000e+00           NaN  0.000000e+00            NaN  \n",
       "max    2.289474e+01           NaN  1.300000e+02            NaN  \n",
       "\n",
       "[8 rows x 30 columns]"
      ]
     },
     "execution_count": 4,
     "metadata": {},
     "output_type": "execute_result"
    }
   ],
   "source": [
    "dataset.describe()"
   ]
  },
  {
   "cell_type": "markdown",
   "metadata": {},
   "source": [
    "## Wrangling Dataset"
   ]
  },
  {
   "cell_type": "code",
   "execution_count": 5,
   "metadata": {},
   "outputs": [],
   "source": [
    "df_copy1 = dataset.drop(columns = ['Symbol', 'Date', 'Time', 'MA5CrossHappened Label', '5DayGained Label', 'MaxTwoDayVolumeRatio Label', 'PositiveMACDdays Label'])\n",
    "df_copy2 = df_copy1.drop(columns = ['GainBarsSum Label', 'SignificantGainVolume Label', 'MACDdivergeRatio Label', 'MACDdivergeRatioLow Label', 'Cross100Ratio Label'])\n",
    "df_copy3 = df_copy2.drop(['Cross5to100Ratio Label', 'GainVolume100Ratio Label', 'GoldenBarCount Label', 'MA5LifeLine Label', 'MA5Low Label', 'MA5High Label'], axis=1)\n"
   ]
  },
  {
   "cell_type": "code",
   "execution_count": 6,
   "metadata": {},
   "outputs": [
    {
     "name": "stdout",
     "output_type": "stream",
     "text": [
      "<class 'pandas.core.frame.DataFrame'>\n",
      "Int64Index: 54888 entries, 0 to 2457351\n",
      "Data columns (total 15 columns):\n",
      " #   Column                 Non-Null Count  Dtype  \n",
      "---  ------                 --------------  -----  \n",
      " 0   MA5CrossHappened       54138 non-null  float64\n",
      " 1   5DayGained             54888 non-null  float64\n",
      " 2   MaxTwoDayVolumeRatio   50892 non-null  float64\n",
      " 3   PositiveMACDdays       54888 non-null  int64  \n",
      " 4   GainBarsSum            54888 non-null  float64\n",
      " 5   SignificantGainVolume  54888 non-null  int64  \n",
      " 6   MACDdivergeRatio       50277 non-null  float64\n",
      " 7   MACDdivergeRatioLow    50085 non-null  float64\n",
      " 8   Cross100Ratio          54884 non-null  float64\n",
      " 9   Cross5to100Ratio       54868 non-null  float64\n",
      " 10  GainVolume100Ratio     54145 non-null  float64\n",
      " 11  GoldenBarCount         54888 non-null  int64  \n",
      " 12  MA5LifeLine            52164 non-null  float64\n",
      " 13  MA5Low                 54669 non-null  float64\n",
      " 14  MA5High                54668 non-null  float64\n",
      "dtypes: float64(12), int64(3)\n",
      "memory usage: 6.7 MB\n"
     ]
    }
   ],
   "source": [
    "df_copy4 = df_copy3[df_copy3.MA5CrossHappened != 0]\n",
    "df_copy5 = df_copy4.replace([np.inf, -np.inf], np.nan)\n",
    "df_copy5.info()"
   ]
  },
  {
   "cell_type": "code",
   "execution_count": 7,
   "metadata": {},
   "outputs": [],
   "source": [
    "df_clean = df_copy5.dropna(how = 'any', subset = ['MA5CrossHappened'])"
   ]
  },
  {
   "cell_type": "code",
   "execution_count": 8,
   "metadata": {
    "scrolled": true
   },
   "outputs": [
    {
     "name": "stdout",
     "output_type": "stream",
     "text": [
      "<class 'pandas.core.frame.DataFrame'>\n",
      "Int64Index: 54138 entries, 0 to 2457351\n",
      "Data columns (total 14 columns):\n",
      " #   Column                 Non-Null Count  Dtype  \n",
      "---  ------                 --------------  -----  \n",
      " 0   5DayGained             54138 non-null  float64\n",
      " 1   MaxTwoDayVolumeRatio   50142 non-null  float64\n",
      " 2   PositiveMACDdays       54138 non-null  int64  \n",
      " 3   GainBarsSum            54138 non-null  float64\n",
      " 4   SignificantGainVolume  54138 non-null  int64  \n",
      " 5   MACDdivergeRatio       49527 non-null  float64\n",
      " 6   MACDdivergeRatioLow    49335 non-null  float64\n",
      " 7   Cross100Ratio          54134 non-null  float64\n",
      " 8   Cross5to100Ratio       54118 non-null  float64\n",
      " 9   GainVolume100Ratio     53395 non-null  float64\n",
      " 10  GoldenBarCount         54138 non-null  int64  \n",
      " 11  MA5LifeLine            51414 non-null  float64\n",
      " 12  MA5Low                 53919 non-null  float64\n",
      " 13  MA5High                53918 non-null  float64\n",
      "dtypes: float64(11), int64(3)\n",
      "memory usage: 6.2 MB\n"
     ]
    }
   ],
   "source": [
    "df_clean1 = df_clean.drop(columns = ['MA5CrossHappened'])\n",
    "df_clean1.info()"
   ]
  },
  {
   "cell_type": "code",
   "execution_count": 9,
   "metadata": {
    "scrolled": true
   },
   "outputs": [
    {
     "name": "stdout",
     "output_type": "stream",
     "text": [
      "<class 'pandas.core.frame.DataFrame'>\n",
      "Int64Index: 54138 entries, 0 to 2457351\n",
      "Data columns (total 14 columns):\n",
      " #   Column                 Non-Null Count  Dtype  \n",
      "---  ------                 --------------  -----  \n",
      " 0   5DayGained             54138 non-null  float64\n",
      " 1   MaxTwoDayVolumeRatio   54138 non-null  float64\n",
      " 2   PositiveMACDdays       54138 non-null  int64  \n",
      " 3   GainBarsSum            54138 non-null  float64\n",
      " 4   SignificantGainVolume  54138 non-null  int64  \n",
      " 5   MACDdivergeRatio       54138 non-null  float64\n",
      " 6   MACDdivergeRatioLow    54138 non-null  float64\n",
      " 7   Cross100Ratio          54138 non-null  float64\n",
      " 8   Cross5to100Ratio       54138 non-null  float64\n",
      " 9   GainVolume100Ratio     54138 non-null  float64\n",
      " 10  GoldenBarCount         54138 non-null  int64  \n",
      " 11  MA5LifeLine            54138 non-null  float64\n",
      " 12  MA5Low                 54138 non-null  float64\n",
      " 13  MA5High                54138 non-null  float64\n",
      "dtypes: float64(11), int64(3)\n",
      "memory usage: 6.2 MB\n"
     ]
    }
   ],
   "source": [
    "fill_mean = lambda col: col.fillna(col.mean())\n",
    "df_final = df_clean1.apply(fill_mean, axis=0)\n",
    "df_final.info()"
   ]
  },
  {
   "cell_type": "markdown",
   "metadata": {},
   "source": [
    "## Splitting the dataset into the Training set and Test set"
   ]
  },
  {
   "cell_type": "code",
   "execution_count": 10,
   "metadata": {},
   "outputs": [],
   "source": [
    "X = df_final.iloc[:, 1:].values\n",
    "y = df_final.iloc[:, 0].values\n",
    "X_train, X_test, y_train, y_test = train_test_split(X, y, test_size = 0.25, random_state = 0)\n"
   ]
  },
  {
   "cell_type": "markdown",
   "metadata": {},
   "source": [
    "## Feature Scaling"
   ]
  },
  {
   "cell_type": "code",
   "execution_count": 11,
   "metadata": {},
   "outputs": [],
   "source": [
    "sc = StandardScaler()\n",
    "X_train = sc.fit_transform(X_train)\n",
    "X_test = sc.transform(X_test)\n",
    "\n"
   ]
  },
  {
   "cell_type": "markdown",
   "metadata": {},
   "source": [
    "## Training the Kernel SVM model on the Training set"
   ]
  },
  {
   "cell_type": "code",
   "execution_count": 12,
   "metadata": {
    "scrolled": true
   },
   "outputs": [
    {
     "data": {
      "text/plain": [
       "SVC(C=1.0, break_ties=False, cache_size=200, class_weight=None, coef0=0.0,\n",
       "    decision_function_shape='ovr', degree=3, gamma='scale', kernel='rbf',\n",
       "    max_iter=-1, probability=False, random_state=0, shrinking=True, tol=0.001,\n",
       "    verbose=False)"
      ]
     },
     "execution_count": 12,
     "metadata": {},
     "output_type": "execute_result"
    }
   ],
   "source": [
    "classifier = SVC(kernel = 'rbf', random_state = 0)\n",
    "classifier.fit(X_train, y_train)"
   ]
  },
  {
   "cell_type": "markdown",
   "metadata": {},
   "source": [
    "## Predicting the Test set results"
   ]
  },
  {
   "cell_type": "code",
   "execution_count": 13,
   "metadata": {},
   "outputs": [],
   "source": [
    "y_pred = classifier.predict(X_test)"
   ]
  },
  {
   "cell_type": "markdown",
   "metadata": {},
   "source": [
    "## Making the Confusion Matrix"
   ]
  },
  {
   "cell_type": "code",
   "execution_count": 14,
   "metadata": {},
   "outputs": [
    {
     "name": "stdout",
     "output_type": "stream",
     "text": [
      "[[3401 3548]\n",
      " [2277 4309]]\n"
     ]
    }
   ],
   "source": [
    "from sklearn.metrics import confusion_matrix\n",
    "cm = confusion_matrix(y_test, y_pred)\n",
    "print(cm)"
   ]
  },
  {
   "cell_type": "markdown",
   "metadata": {},
   "source": [
    "## Applying k-Fold Cross Validation"
   ]
  },
  {
   "cell_type": "code",
   "execution_count": 15,
   "metadata": {},
   "outputs": [
    {
     "name": "stdout",
     "output_type": "stream",
     "text": [
      "Accuracy: 56.99 %\n",
      "Standard Deviation: 0.63 %\n"
     ]
    }
   ],
   "source": [
    "accuracies = cross_val_score(estimator = classifier, X = X_train, y = y_train, cv = 10)\n",
    "print(\"Accuracy: {:.2f} %\".format(accuracies.mean()*100))\n",
    "print(\"Standard Deviation: {:.2f} %\".format(accuracies.std()*100))"
   ]
  },
  {
   "cell_type": "markdown",
   "metadata": {},
   "source": []
  },
  {
   "cell_type": "markdown",
   "metadata": {},
   "source": [
    "## Training the Random Forest Classfication model on the Training set"
   ]
  },
  {
   "cell_type": "code",
   "execution_count": 37,
   "metadata": {},
   "outputs": [
    {
     "data": {
      "text/plain": [
       "RandomForestClassifier(bootstrap=True, ccp_alpha=0.0, class_weight=None,\n",
       "                       criterion='entropy', max_depth=None, max_features='auto',\n",
       "                       max_leaf_nodes=None, max_samples=None,\n",
       "                       min_impurity_decrease=0.0, min_impurity_split=None,\n",
       "                       min_samples_leaf=1, min_samples_split=2,\n",
       "                       min_weight_fraction_leaf=0.0, n_estimators=200,\n",
       "                       n_jobs=None, oob_score=False, random_state=0, verbose=0,\n",
       "                       warm_start=False)"
      ]
     },
     "execution_count": 37,
     "metadata": {},
     "output_type": "execute_result"
    }
   ],
   "source": [
    "from sklearn.ensemble import RandomForestClassifier\n",
    "classifier1 = RandomForestClassifier(n_estimators = 200, criterion = 'entropy', random_state = 0)\n",
    "classifier1.fit(X_train, y_train)"
   ]
  },
  {
   "cell_type": "code",
   "execution_count": 38,
   "metadata": {},
   "outputs": [],
   "source": [
    "y_pred = classifier1.predict(X_test)"
   ]
  },
  {
   "cell_type": "code",
   "execution_count": 39,
   "metadata": {},
   "outputs": [
    {
     "name": "stdout",
     "output_type": "stream",
     "text": [
      "[[4448 2501]\n",
      " [2570 4016]]\n"
     ]
    }
   ],
   "source": [
    "from sklearn.metrics import confusion_matrix\n",
    "cm = confusion_matrix(y_test, y_pred)\n",
    "print(cm)"
   ]
  },
  {
   "cell_type": "code",
   "execution_count": 40,
   "metadata": {},
   "outputs": [
    {
     "name": "stdout",
     "output_type": "stream",
     "text": [
      "Accuracy: 61.90 %\n",
      "Standard Deviation: 0.51 %\n"
     ]
    }
   ],
   "source": [
    "accuracies = cross_val_score(estimator = classifier1, X = X_train, y = y_train, cv = 10)\n",
    "print(\"Accuracy: {:.2f} %\".format(accuracies.mean()*100))\n",
    "print(\"Standard Deviation: {:.2f} %\".format(accuracies.std()*100))"
   ]
  },
  {
   "cell_type": "markdown",
   "metadata": {},
   "source": [
    "## Training the K-NN model on the Training set"
   ]
  },
  {
   "cell_type": "code",
   "execution_count": 41,
   "metadata": {},
   "outputs": [
    {
     "data": {
      "text/plain": [
       "KNeighborsClassifier(algorithm='auto', leaf_size=30, metric='minkowski',\n",
       "                     metric_params=None, n_jobs=None, n_neighbors=5, p=2,\n",
       "                     weights='uniform')"
      ]
     },
     "execution_count": 41,
     "metadata": {},
     "output_type": "execute_result"
    }
   ],
   "source": [
    "from sklearn.neighbors import KNeighborsClassifier\n",
    "classifier2 = KNeighborsClassifier(n_neighbors = 5, metric = 'minkowski', p=2)\n",
    "classifier2.fit(X_train, y_train)"
   ]
  },
  {
   "cell_type": "code",
   "execution_count": 42,
   "metadata": {},
   "outputs": [],
   "source": [
    "y_pred = classifier2.predict(X_test)"
   ]
  },
  {
   "cell_type": "code",
   "execution_count": 43,
   "metadata": {},
   "outputs": [
    {
     "name": "stdout",
     "output_type": "stream",
     "text": [
      "[[3828 3121]\n",
      " [3027 3559]]\n"
     ]
    }
   ],
   "source": [
    "from sklearn.metrics import confusion_matrix\n",
    "cm = confusion_matrix(y_test, y_pred)\n",
    "print(cm)"
   ]
  },
  {
   "cell_type": "code",
   "execution_count": 44,
   "metadata": {},
   "outputs": [
    {
     "name": "stdout",
     "output_type": "stream",
     "text": [
      "Accuracy: 54.15 %\n",
      "Standard Deviation: 0.47 %\n"
     ]
    }
   ],
   "source": [
    "accuracies = cross_val_score(estimator = classifier2, X = X_train, y = y_train, cv = 10)\n",
    "print(\"Accuracy: {:.2f} %\".format(accuracies.mean()*100))\n",
    "print(\"Standard Deviation: {:.2f} %\".format(accuracies.std()*100))"
   ]
  },
  {
   "cell_type": "markdown",
   "metadata": {},
   "source": [
    "## Training the Logistic Regression model on the Training set"
   ]
  },
  {
   "cell_type": "code",
   "execution_count": 45,
   "metadata": {},
   "outputs": [
    {
     "data": {
      "text/plain": [
       "LogisticRegression(C=1.0, class_weight=None, dual=False, fit_intercept=True,\n",
       "                   intercept_scaling=1, l1_ratio=None, max_iter=100,\n",
       "                   multi_class='auto', n_jobs=None, penalty='l2',\n",
       "                   random_state=0, solver='lbfgs', tol=0.0001, verbose=0,\n",
       "                   warm_start=False)"
      ]
     },
     "execution_count": 45,
     "metadata": {},
     "output_type": "execute_result"
    }
   ],
   "source": [
    "from sklearn.linear_model import LogisticRegression\n",
    "classifier3 = LogisticRegression(random_state = 0)\n",
    "classifier3.fit(X_train, y_train)"
   ]
  },
  {
   "cell_type": "code",
   "execution_count": 46,
   "metadata": {},
   "outputs": [],
   "source": [
    "y_pred = classifier3.predict(X_test)"
   ]
  },
  {
   "cell_type": "code",
   "execution_count": 47,
   "metadata": {},
   "outputs": [
    {
     "name": "stdout",
     "output_type": "stream",
     "text": [
      "[[4789 2160]\n",
      " [4246 2340]]\n"
     ]
    }
   ],
   "source": [
    "from sklearn.metrics import confusion_matrix\n",
    "cm = confusion_matrix(y_test, y_pred)\n",
    "print(cm)"
   ]
  },
  {
   "cell_type": "code",
   "execution_count": 49,
   "metadata": {},
   "outputs": [
    {
     "name": "stdout",
     "output_type": "stream",
     "text": [
      "Accuracy: 53.73 %\n",
      "Standard Deviation: 0.87 %\n"
     ]
    }
   ],
   "source": [
    "accuracies = cross_val_score(estimator = classifier3, X = X_train, y = y_train, cv = 10)\n",
    "print(\"Accuracy: {:.2f} %\".format(accuracies.mean()*100))\n",
    "print(\"Standard Deviation: {:.2f} %\".format(accuracies.std()*100))"
   ]
  },
  {
   "cell_type": "markdown",
   "metadata": {},
   "source": [
    "## Data Visualization"
   ]
  },
  {
   "cell_type": "code",
   "execution_count": 52,
   "metadata": {},
   "outputs": [
    {
     "data": {
      "image/png": "[encoded data removed]",
      "text/plain": [
       "<Figure size 1440x1080 with 2 Axes>"
      ]
     },
     "metadata": {
      "needs_background": "light"
     },
     "output_type": "display_data"
    }
   ],
   "source": [
    "# Correlation Heat Map\n",
    "import seaborn as sns\n",
    "plt.subplots(figsize=(20,15))\n",
    "sns.heatmap(df_final.corr(), annot=True, fmt=\".2f\");"
   ]
  },
  {
   "cell_type": "code",
   "execution_count": 62,
   "metadata": {},
   "outputs": [
    {
     "data": {
      "image/png": "[encoded data removed]",
      "text/plain": [
       "<Figure size 468x324 with 1 Axes>"
      ]
     },
     "metadata": {
      "needs_background": "light"
     },
     "output_type": "display_data"
    },
    {
     "data": {
      "text/plain": [
       "<Figure size 360x360 with 0 Axes>"
      ]
     },
     "metadata": {},
     "output_type": "display_data"
    }
   ],
   "source": [
    "# Feature importance in RandomForest Classifier\n",
    "col = ['MaxTwoDayVolumeRatio', 'PositiveMACDdays', 'GainBarsSum', 'SignificantGainVolume', 'MACDdiverageRatio', \n",
    "       'MACDdivergeRatioLow', 'Cross100Ratio', 'Cross5to100Ratio', 'GainVolume100Ratio', 'GoldenBarCount', 'MA5LifeLine', \n",
    "       'MA5Low', 'MA5High']\n",
    "#modelname.feature_importance_\n",
    "imp = classifier1.feature_importances_\n",
    "#plot\n",
    "fig, ax = plt.subplots() \n",
    "width = 0.4 # the width of the bars \n",
    "ind = np.arange(len(imp)) # the x locations for the groups\n",
    "ax.barh(ind, imp, width, color='green')\n",
    "ax.set_yticks(ind+width/10)\n",
    "ax.set_yticklabels(col, minor=False)\n",
    "plt.title('Feature importance in RandomForest Classifier')\n",
    "plt.xlabel('Relative importance')\n",
    "plt.ylabel('feature') \n",
    "plt.figure(figsize=(5,5))\n",
    "fig.set_size_inches(6.5, 4.5, forward=True)"
   ]
  },
  {
   "cell_type": "markdown",
   "metadata": {},
   "source": [
    "## Training the Random Forest Classfication model on the Training set with feature selection"
   ]
  },
  {
   "cell_type": "code",
   "execution_count": 90,
   "metadata": {},
   "outputs": [],
   "source": [
    "df_select = df_final.drop(columns = ['GoldenBarCount', 'MACDdivergeRatio', 'SignificantGainVolume'])"
   ]
  },
  {
   "cell_type": "code",
   "execution_count": 91,
   "metadata": {},
   "outputs": [],
   "source": [
    "X1 = df_select.iloc[:, 1:].values\n",
    "y1 = df_select.iloc[:, 0].values\n",
    "X_train1, X_test1, y_train1, y_test1 = train_test_split(X1, y1, test_size = 0.25, random_state = 0)"
   ]
  },
  {
   "cell_type": "code",
   "execution_count": 92,
   "metadata": {},
   "outputs": [],
   "source": [
    "sc = StandardScaler()\n",
    "X_train1 = sc.fit_transform(X_train1)\n",
    "X_test1 = sc.transform(X_test1)\n"
   ]
  },
  {
   "cell_type": "code",
   "execution_count": 93,
   "metadata": {},
   "outputs": [
    {
     "data": {
      "text/plain": [
       "RandomForestClassifier(bootstrap=True, ccp_alpha=0.0, class_weight=None,\n",
       "                       criterion='entropy', max_depth=None, max_features='auto',\n",
       "                       max_leaf_nodes=None, max_samples=None,\n",
       "                       min_impurity_decrease=0.0, min_impurity_split=None,\n",
       "                       min_samples_leaf=1, min_samples_split=2,\n",
       "                       min_weight_fraction_leaf=0.0, n_estimators=200,\n",
       "                       n_jobs=None, oob_score=False, random_state=0, verbose=0,\n",
       "                       warm_start=False)"
      ]
     },
     "execution_count": 93,
     "metadata": {},
     "output_type": "execute_result"
    }
   ],
   "source": [
    "from sklearn.ensemble import RandomForestClassifier\n",
    "classifierSlct = RandomForestClassifier(n_estimators = 200, criterion = 'entropy', random_state = 0)\n",
    "classifierSlct.fit(X_train1, y_train1)"
   ]
  },
  {
   "cell_type": "code",
   "execution_count": 94,
   "metadata": {},
   "outputs": [],
   "source": [
    "y_pred1 = classifierSlct.predict(X_test1)"
   ]
  },
  {
   "cell_type": "code",
   "execution_count": 95,
   "metadata": {},
   "outputs": [
    {
     "name": "stdout",
     "output_type": "stream",
     "text": [
      "[[4417 2532]\n",
      " [2578 4008]]\n"
     ]
    }
   ],
   "source": [
    "from sklearn.metrics import confusion_matrix\n",
    "cm = confusion_matrix(y_test1, y_pred1)\n",
    "print(cm)"
   ]
  },
  {
   "cell_type": "code",
   "execution_count": 96,
   "metadata": {
    "scrolled": true
   },
   "outputs": [
    {
     "name": "stdout",
     "output_type": "stream",
     "text": [
      "Accuracy: 62.01 %\n",
      "Standard Deviation: 0.52 %\n"
     ]
    }
   ],
   "source": [
    "accuracies = cross_val_score(estimator = classifierSlct, X = X_train1, y = y_train1, cv = 10)\n",
    "print(\"Accuracy: {:.2f} %\".format(accuracies.mean()*100))\n",
    "print(\"Standard Deviation: {:.2f} %\".format(accuracies.std()*100))"
   ]
  },
  {
   "cell_type": "markdown",
   "metadata": {},
   "source": [
    "## Data Visualization Continued"
   ]
  },
  {
   "cell_type": "code",
   "execution_count": 112,
   "metadata": {},
   "outputs": [
    {
     "name": "stdout",
     "output_type": "stream",
     "text": [
      "<class 'pandas.core.frame.DataFrame'>\n",
      "Int64Index: 54138 entries, 0 to 2457351\n",
      "Data columns (total 11 columns):\n",
      " #   Column                Non-Null Count  Dtype  \n",
      "---  ------                --------------  -----  \n",
      " 0   5DayGained            54138 non-null  float64\n",
      " 1   MaxTwoDayVolumeRatio  54138 non-null  float64\n",
      " 2   PositiveMACDdays      54138 non-null  int64  \n",
      " 3   GainBarsSum           54138 non-null  float64\n",
      " 4   MACDdivergeRatioLow   54138 non-null  float64\n",
      " 5   Cross100Ratio         54138 non-null  float64\n",
      " 6   Cross5to100Ratio      54138 non-null  float64\n",
      " 7   GainVolume100Ratio    54138 non-null  float64\n",
      " 8   MA5LifeLine           54138 non-null  float64\n",
      " 9   MA5Low                54138 non-null  float64\n",
      " 10  MA5High               54138 non-null  float64\n",
      "dtypes: float64(10), int64(1)\n",
      "memory usage: 5.0 MB\n"
     ]
    }
   ],
   "source": [
    "df_select.info()"
   ]
  },
  {
   "cell_type": "code",
   "execution_count": 116,
   "metadata": {},
   "outputs": [
    {
     "data": {
      "image/png": "[encoded data removed]",
      "text/plain": [
       "<Figure size 432x288 with 1 Axes>"
      ]
     },
     "metadata": {
      "needs_background": "light"
     },
     "output_type": "display_data"
    }
   ],
   "source": [
    "# Visualizting a sample tree frome forest classifier\n",
    "fn = ['MaxTwoDayVolumeRatio', 'PositiveMACDdays', 'GainBarsSum', 'MACDdivergeRatioLow', \n",
    "                                 'Cross100Ratio', 'Cross5to100Ratio', 'GainVolume100Ratio', 'MA5LifeLine', \n",
    "                                 'MA5Low', 'MA5High']\n",
    "cn = ['False', 'True']\n",
    "from sklearn.tree import export_graphviz\n",
    "from sklearn import tree\n",
    "Tre = classifierSlct.estimators_[5]\n",
    "tree.plot_tree(Tre,\n",
    "               feature_names = fn, \n",
    "               class_names=cn,\n",
    "               filled = True);\n",
    "fig.savefig('imagename.png')\n"
   ]
  },
  {
   "cell_type": "code",
   "execution_count": 118,
   "metadata": {},
   "outputs": [
    {
     "name": "stdout",
     "output_type": "stream",
     "text": [
      "imagename.png\n"
     ]
    }
   ],
   "source": []
  },
  {
   "cell_type": "code",
   "execution_count": null,
   "metadata": {},
   "outputs": [],
   "source": [
    " "
   ]
  }
 ],
 "metadata": {
  "kernelspec": {
   "display_name": "Python 3",
   "language": "python",
   "name": "python3"
  },
  "language_info": {
   "codemirror_mode": {
    "name": "ipython",
    "version": 3
   },
   "file_extension": ".py",
   "mimetype": "text/x-python",
   "name": "python",
   "nbconvert_exporter": "python",
   "pygments_lexer": "ipython3",
   "version": "3.6.10"
  }
 },
 "nbformat": 4,
 "nbformat_minor": 4
}
